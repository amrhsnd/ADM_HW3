{
 "cells": [
  {
   "cell_type": "markdown",
   "metadata": {},
   "source": [
    "# Homework 3 "
   ]
  },
  {
   "cell_type": "code",
   "execution_count": null,
   "metadata": {},
   "outputs": [
    {
     "name": "stderr",
     "output_type": "stream",
     "text": [
      "[nltk_data] Downloading package punkt to\n",
      "[nltk_data]     C:\\Users\\User\\AppData\\Roaming\\nltk_data...\n",
      "[nltk_data]   Package punkt is already up-to-date!\n",
      "[nltk_data] Downloading package stopwords to\n",
      "[nltk_data]     C:\\Users\\User\\AppData\\Roaming\\nltk_data...\n",
      "[nltk_data]   Package stopwords is already up-to-date!\n"
     ]
    }
   ],
   "source": [
    "import module.crawler as cr\n",
    "import module.costum_parser as pr\n",
    "from scrapy.crawler import CrawlerProcess\n",
    "from scrapy.settings import Settings\n",
    "from concurrent.futures import ThreadPoolExecutor, as_completed\n",
    "import os\n",
    "import numpy as np\n",
    "import pandas as pd\n",
    "import nltk\n",
    "nltk.download('punkt')\n",
    "nltk.download('stopwords')\n",
    "from nltk.corpus import stopwords\n",
    "from nltk.tokenize import word_tokenize\n",
    "from nltk.stem import PorterStemmer\n",
    "import string\n",
    "import re\n",
    "from collections import defaultdict\n",
    "\n"
   ]
  },
  {
   "cell_type": "code",
   "execution_count": 5,
   "metadata": {},
   "outputs": [],
   "source": [
    "# Settings the necessary direcory\n",
    "os.makedirs('data', exist_ok=True)\n",
    "\n",
    "pages_path = os.path.join('data', 'pages')\n",
    "os.makedirs(pages_path, exist_ok=True)\n",
    "\n",
    "data_path = os.path.join('data', 'data_tsv')\n",
    "os.makedirs(data_path, exist_ok=True)\n",
    "\n",
    "\n",
    "dataset_path = os.path.join('data', 'dataset.tsv')\n",
    "urls_path = os.path.join('data', 'urls.txt')"
   ]
  },
  {
   "cell_type": "markdown",
   "metadata": {},
   "source": [
    "# 1. Data collection\n"
   ]
  },
  {
   "cell_type": "markdown",
   "metadata": {},
   "source": [
    "### 1.1 Get the list of Michelin restaurants\n",
    "\n",
    "You should begin by compiling a list of restaurants to include in your document corpus. Specifically, you will focus on web scraping the [Michelin Restaurants in Italy](https://guide.michelin.com/en/it/restaurants). Your task is to **collect the URL** associated with each restaurant in this list. The output of this step should be a `.txt` file where each line contains a single restaurant’s URL. By the end, you should have approximately 2,037 restaurants on your list.\n"
   ]
  },
  {
   "cell_type": "code",
   "execution_count": 5,
   "metadata": {},
   "outputs": [],
   "source": [
    "# Create custom settings for the url spider\n",
    "custom_settings = Settings({\n",
    "    'REQUEST_FINGERPRINTER_IMPLEMENTATION': '2.7',  # Set to recommended value to avoid issues\n",
    "    'LOG_LEVEL': 'ERROR'  # Suppress other logging\n",
    "})"
   ]
  },
  {
   "cell_type": "code",
   "execution_count": 6,
   "metadata": {},
   "outputs": [],
   "source": [
    "get_url_process = CrawlerProcess(settings=custom_settings) # Create a process for the spider\n",
    "get_url_process.crawl(cr.UrlMichelin, urls_path) # Add the spider to the process\n",
    "get_url_process.start() # Run the spider"
   ]
  },
  {
   "cell_type": "code",
   "execution_count": 7,
   "metadata": {},
   "outputs": [
    {
     "name": "stdout",
     "output_type": "stream",
     "text": [
      "Number of lines in file: 1983\n"
     ]
    }
   ],
   "source": [
    "# Check if the file exists\n",
    "if os.path.exists(urls_path):\n",
    "    # Check the output file and see if the number of lines is correct\n",
    "    lines_in_file = open(urls_path, 'r').readlines()\n",
    "    number_of_lines = len(lines_in_file)\n",
    "    print(f'Number of lines in file: {number_of_lines}')\n",
    "else:\n",
    "    print('Failure: File not found')"
   ]
  },
  {
   "cell_type": "markdown",
   "metadata": {},
   "source": [
    "### 1.2. Crawl Michelin restaurant pages\n",
    "\n",
    "Once you have all the URLs on the list, you should:\n",
    "\n",
    "1. Download the HTML corresponding to each of the collected URLs.\n",
    "2. After collecting each page, immediately save its `HTML` in a file. This way, if your program stops for any reason, you will not lose the data collected up to the stopping point.\n",
    "3. Organize the downloaded `HTML` pages into folders. Each folder will contain the `HTML` of the restaurants from page 1, page 2, ... of the Michelin restaurant list.\n",
    "\n",
    "__Tip__: Due to the large number of pages to download, consider using methods that can help shorten the process. If you employed a particular process or approach, kindly describe it.\n"
   ]
  },
  {
   "cell_type": "code",
   "execution_count": 10,
   "metadata": {},
   "outputs": [
    {
     "name": "stdout",
     "output_type": "stream",
     "text": [
      "Downloaded all pages!\n"
     ]
    }
   ],
   "source": [
    "lines_of_urls = []\n",
    "with open(urls_path, 'r') as file:\n",
    "    lines_of_urls = file.readlines()\n",
    "\n",
    "original_directory = os.getcwd()\n",
    "os.chdir(os.path.join(original_directory, pages_path))\n",
    "\n",
    "# Create folders for the HTML files\n",
    "cr.make_folders(100)\n",
    "\n",
    "max_w = os.cpu_count()\n",
    "\n",
    "# Download the HTML files concurrently\n",
    "with ThreadPoolExecutor(max_workers=max_w) as executor:\n",
    "    download_futures = []\n",
    "    for line in lines_of_urls:\n",
    "        # Split the line into URL and page number\n",
    "        page_num = int(line.split(\"|\")[1])\n",
    "        url = line.split(\"|\")[0].strip()\n",
    "                \n",
    "        # Submit download task to the executor\n",
    "        download_futures.append(executor.submit(cr.HTML_downloader, url, page_num))\n",
    "\n",
    "    # Wait for all tasks to complete\n",
    "    for future in as_completed(download_futures):\n",
    "        try:\n",
    "            future.result()\n",
    "        except Exception as e:\n",
    "            print(f\"An error occurred: {e}\")\n",
    "\n",
    "# Notify completion\n",
    "print(\"Downloaded all pages!\")\n",
    "\n",
    "# Return to the original directory\n",
    "os.chdir(original_directory)"
   ]
  },
  {
   "cell_type": "code",
   "execution_count": 11,
   "metadata": {},
   "outputs": [
    {
     "name": "stdout",
     "output_type": "stream",
     "text": [
      "File count: 1983\n"
     ]
    }
   ],
   "source": [
    "# Check if the files exist and are 1983\n",
    "\n",
    "current_dir = os.getcwd()\n",
    "dir_path = os.path.join(current_dir, pages_path)\n",
    "os.chdir(dir_path)\n",
    "count = 0\n",
    "\n",
    "for i in range(1,101):\n",
    "    folder = f'page_{i}'\n",
    "    for path in os.listdir(folder):\n",
    "        if os.path.isfile(os.path.join(folder, path)):\n",
    "            count += 1\n",
    "\n",
    "os.chdir(current_dir)\n",
    "\n",
    "print('File count:', count)"
   ]
  },
  {
   "cell_type": "markdown",
   "metadata": {},
   "source": [
    "### 1.3 Parse downloaded pages\n",
    "\n",
    "At this point, you should have all the HTML documents about the restaurant of interest, and you can start to extract specific information. The list of the information we desire for each restaurant and their format is as follows:\n",
    "\n",
    "1. **Restaurant Name** (to save as `restaurantName`): string;\n",
    "2. **Address** (to save as `address`): string;\n",
    "3. **City** (to save as `city`): string;\n",
    "4. **Postal Code** (to save as `postalCode`): string;\n",
    "5. **Country** (to save as `country`): string;\n",
    "6. **Price Range** (to save as `priceRange`): string;\n",
    "7. **Cuisine Type** (to save as `cuisineType`): string;\n",
    "8. **Description** (to save as `description`): string;\n",
    "9. **Facilities and Services** (to save as `facilitiesServices`): list of strings;\n",
    "10. **Accepted Credit Cards** (to save as `creditCards`): list of strings;\n",
    "11. **Phone Number** (to save as `phoneNumber`): string;\n",
    "12. **URL to the Restaurant Page** (to save as `website`): string.\n",
    "\n",
    "For each restaurant, you create a `restaurant_i.tsv` file of this structure:\n",
    "\n",
    "```\n",
    "restaurantName \\t address \\t  ... \\t url\n",
    "```\n",
    "\n",
    "If an information is missing, you just leave it as an empty string."
   ]
  },
  {
   "cell_type": "code",
   "execution_count": 12,
   "metadata": {},
   "outputs": [
    {
     "name": "stdout",
     "output_type": "stream",
     "text": [
      "Extracted all data!\n"
     ]
    }
   ],
   "source": [
    "keys = ['index', 'restaurantName', 'address', 'city', 'postalCode', 'country', 'priceRange', 'cuisineType', 'description', 'creditCards', 'facilitiesServices', 'phoneNumber', 'website']\n",
    "\n",
    "max_w = os.cpu_count()\n",
    "\n",
    "# Download the data from HTML files concurrently\n",
    "with ThreadPoolExecutor(max_workers=max_w) as executor:\n",
    "    extractor_future = []\n",
    "    for i in range(1,101):\n",
    "        start_dir = os.path.join(pages_path, f'page_{i}')\n",
    "        start_index = (i-1)*20 \n",
    "        extractor_future.append(executor.submit(pr.tsv_extractor, start_dir, data_path, start_index, keys))\n",
    "\n",
    "    # Wait for all tasks to complete\n",
    "    for future in as_completed(extractor_future):\n",
    "        try:\n",
    "            future.result()\n",
    "        except Exception as e:\n",
    "            print(e)\n",
    "\n",
    "# Notify completion\n",
    "print(\"Extracted all data!\")"
   ]
  },
  {
   "cell_type": "code",
   "execution_count": 13,
   "metadata": {},
   "outputs": [
    {
     "name": "stdout",
     "output_type": "stream",
     "text": [
      "File count: 1983\n"
     ]
    }
   ],
   "source": [
    "# Check if the files exist and are 1983\n",
    "count = 0\n",
    "\n",
    "for path in os.listdir(data_path):\n",
    "        if os.path.isfile(os.path.join(data_path, path)):\n",
    "            count += 1\n",
    "\n",
    "print('File count:', count)"
   ]
  },
  {
   "cell_type": "code",
   "execution_count": 6,
   "metadata": {},
   "outputs": [
    {
     "name": "stdout",
     "output_type": "stream",
     "text": [
      "Unified all data!\n"
     ]
    }
   ],
   "source": [
    "# Unify all data into one file csv\n",
    "\n",
    "# List all TSV files in the directory\n",
    "tsv_files = [f for f in os.listdir(data_path) if f.endswith('.tsv')]\n",
    "\n",
    "# Load all TSV files into a list of dataframes\n",
    "dfs = [pd.read_csv(os.path.join(data_path, file), sep='\\t') for file in tsv_files]\n",
    "\n",
    "# Unite all dataframes into one\n",
    "merged_df = pd.concat(dfs, ignore_index=True)\n",
    "merged_df.sort_values(by=['index'], inplace=True)\n",
    "\n",
    "# Save the merged dataframe to a TSV file\n",
    "merged_df.to_csv(dataset_path, sep='\\t', index=False)\n",
    "\n",
    "# Notify completion\n",
    "print(\"Unified all data!\")\n"
   ]
  },
  {
   "cell_type": "markdown",
   "metadata": {},
   "source": [
    "# 2. Search Engine\n",
    "\n",
    "This search engine allows you to retrieve restaurants based on a user query. We’ll build two types of search engines:\n",
    "\n",
    "- **Conjunctive Search Engine**: Returns restaurants where all query terms appear in the description.\n",
    "- **Ranked Search Engine**: Returns the top-k restaurants sorted by similarity to the query, using TF-IDF and Cosine Similarity."
   ]
  },
  {
   "cell_type": "markdown",
   "metadata": {},
   "source": [
    "To effectively analyze restaurant descriptions, it is crucial to *pre-process the text*. As in any optimal text analysis, we must proceed with preprocessing, which we addressed in the first part.In general we followed these steps.:\n",
    "\n",
    "- Firstly we ensured text pre-processing through the `preprocess_and_stem_text`function\n",
    "\n",
    "- The next step involved constructing a `vocabulary` and an `inverted_index`. This setup allows us to define a `search_query` function where, by inputting a word or phrase, we can retrieve all documents containing all of those words."
   ]
  },
  {
   "cell_type": "markdown",
   "metadata": {},
   "source": [
    "## 2.0 Preprocessing"
   ]
  },
  {
   "cell_type": "markdown",
   "metadata": {},
   "source": [
    "The function, `preprocess_and_stem_text`, performs several key operations using the Natural Language Toolkit (NLTK). \n",
    "- First, it tokenizes the text by splitting it into individual words and converting them to lowercase\n",
    "- Next, it cleans the characters by removing non-alphanumeric symbols\n",
    "- Subsequently, the function removes stop words, common words that do not rpovide so much information.\n",
    "- Finally, it applies stemming to the remaining words, reducing them to their root forms. \n",
    "\n",
    "In the table below, we can see the results of the pre-processingfor some example words from the `description` column"
   ]
  },
  {
   "cell_type": "markdown",
   "metadata": {},
   "source": [
    "### Table 1: Pre-processing example\n",
    "| Original           | Stemmed             |\n",
    "|--------------------|---------------------|\n",
    "| situated           | situat              |\n",
    "| contemporarystyle  | contemporarystyl    |\n",
    "| restaurant         | restaur             |            \n",
    "| focuses            | focus               |    \n"
   ]
  },
  {
   "cell_type": "code",
   "execution_count": 132,
   "metadata": {},
   "outputs": [],
   "source": [
    "\n",
    "df= pd.read_csv(\"dataset.tsv\", sep='\\t', encoding= \"utf-8\")\n",
    "costum = {\"one\",\"well\",\"feature\",\"also\"}\n",
    "\n",
    "def preprocess_and_stem_text(text):\n",
    "    words = word_tokenize(text.lower())\n",
    "    #split the text into words and convert to lowercase.\n",
    "    words = [re.sub(r\"[^a-zA-Z']\", '', word) for word in words]\n",
    "    # Remove non-alphanumeric characters, keeping only letters and apostrophes\n",
    "    stop_words = set(stopwords.words('english'))\n",
    "    # Create a set of stop words to exclude\n",
    "    stemmer = PorterStemmer() \n",
    "    \n",
    "    filtered_stemmed_words = []\n",
    "    for word in words:\n",
    "        if word and word not in stop_words:\n",
    "            stemmed_word = stemmer.stem(word) #stemming in order to reduce words to their roots.\n",
    "            filtered_stemmed_words.append(stemmed_word)\n",
    "    \n",
    "    return filtered_stemmed_words\n",
    "\n",
    "df[\"processed_description\"] = df[\"description\"].apply(preprocess_and_stem_text)\n"
   ]
  },
  {
   "cell_type": "markdown",
   "metadata": {},
   "source": [
    "## 2.1 Conjunctive Query"
   ]
  },
  {
   "cell_type": "markdown",
   "metadata": {},
   "source": [
    "### 2.1.1 Create Your Index!"
   ]
  },
  {
   "cell_type": "markdown",
   "metadata": {},
   "source": [
    "In this section, we need to create two main structures: a `vocabulary` and an `inverted_index`\n",
    "\n",
    "- `vocabulary`: This is a dictionary where each unique word found across all descriptions is assigned a unique number (ID)\n",
    "- `inverted_index`: This is a dictionary that maps each word's unique ID (from the vocabulary) to a list of restaurant IDs in which that word appears. This allows find out which documents contain specific words.\n",
    "\n",
    "For each restaurant description, we extract the set of unique processed words. Then, for each word in the document:\n",
    "\n",
    "- If the word is not already in the vocabulary, we add it with a new unique ID.\n",
    "- We then update the inverted index, adding the restaurant ID to the list associated with that word's unique ID."
   ]
  },
  {
   "cell_type": "code",
   "execution_count": 133,
   "metadata": {},
   "outputs": [],
   "source": [
    "from collections import defaultdict\n",
    "\n",
    "def create_vocabulary_and_inverted_index(df):\n",
    "\n",
    "    vocabulary = {}\n",
    "    inverted_index = defaultdict(list)\n",
    "    \n",
    "    # term ID counter\n",
    "    term_id = 0\n",
    "\n",
    "    # Iterate over each row in the DataFrame\n",
    "    for idx, row in df.iterrows():\n",
    "        # Convert the processed description into a set to avoid duplicates\n",
    "        description = set(row[\"processed_description\"])\n",
    "        restaurant_id = row[\"index\"]\n",
    "\n",
    "        # Iterate over each unique word in the description\n",
    "        for word in description:\n",
    "            \n",
    "            if word not in vocabulary:\n",
    "                vocabulary[word] = term_id\n",
    "                term_id += 1\n",
    "\n",
    "            # Get the term ID for the current word\n",
    "            term_id_for_word = vocabulary[word]\n",
    "            \n",
    "            inverted_index[term_id_for_word].append(restaurant_id)\n",
    "    \n",
    "    return vocabulary, inverted_index\n",
    "\n",
    "vocabulary, inverted_index = create_vocabulary_and_inverted_index(df)\n"
   ]
  },
  {
   "cell_type": "code",
   "execution_count": 84,
   "metadata": {},
   "outputs": [],
   "source": [
    "import json\n",
    "\n",
    "# Save vocabulary as vocabulary.csv\n",
    "vocab_df = pd.DataFrame(list(vocabulary.items()), columns=[\"word\", \"term_id\"])\n",
    "vocab_df.to_csv(\"vocabulary.csv\", index=False)\n",
    "\n",
    "# Save inverted index as inverted_index.json\n",
    "with open(\"inverted_index.json\", \"w\") as f:\n",
    "    json.dump(inverted_index, f)\n"
   ]
  },
  {
   "cell_type": "markdown",
   "metadata": {},
   "source": [
    "### 2.1.2 Execute the Query"
   ]
  },
  {
   "cell_type": "markdown",
   "metadata": {},
   "source": [
    "The following function, `execute_query`, allows to search through a dataset of restaurant descriptions based on input search terms by the user. In more details, the function checks if the set of query terms is a subset of the words present in each restaurant's description.\n",
    "Once the matching restaurants are identified, relevant rows from the DataFrame are selected based on the indices of the matches found"
   ]
  },
  {
   "cell_type": "code",
   "execution_count": 134,
   "metadata": {},
   "outputs": [
    {
     "name": "stdout",
     "output_type": "stream",
     "text": [
      "Descriptions that contain the query 'modern seasonal cuisine':\n"
     ]
    },
    {
     "data": {
      "text/html": [
       "<style type=\"text/css\">\n",
       "</style>\n",
       "<table id=\"T_de418_\">\n",
       "  <thead>\n",
       "    <tr>\n",
       "      <th class=\"col_heading level0 col0\" >restaurantName</th>\n",
       "      <th class=\"col_heading level0 col1\" >address</th>\n",
       "      <th class=\"col_heading level0 col2\" >description</th>\n",
       "      <th class=\"col_heading level0 col3\" >website</th>\n",
       "    </tr>\n",
       "  </thead>\n",
       "  <tbody>\n",
       "    <tr>\n",
       "      <td id=\"T_de418_row0_col0\" class=\"data row0 col0\" >Casin del Gamba</td>\n",
       "      <td id=\"T_de418_row0_col1\" class=\"data row0 col1\" >via Roccolo Pizzati 1</td>\n",
       "      <td id=\"T_de418_row0_col2\" class=\"data row0 col2\" >The journey to get here – a winding road through woods and hills – may be challenging at times but the warm welcome offered by the whole family Dal Lago at this delightful restaurant makes you feel completely at home and more than compensates for the effort. Owner-chef Antonio shares the honours and duties of his role with long-established sous-chef Biolo. Together, they prepare cuisine that is perfectly balanced between classic flavours and modern trends, using local ingredients that respect the passing seasons. Game features on the menu in winter, while dishes are often seasoned with wild aromatic herbs (for example, the local snails served with thyme and onion bread). For her part, Signora Daria determinedly takes on two roles: she not only prepares the desserts, but also skilfully supervises front of house, ably assisted by son Luca who is happy to advise guests on their choice of wine. The well-structured wine list also includes a good number of organic wines.</td>\n",
       "      <td id=\"T_de418_row0_col3\" class=\"data row0 col3\" >https://www.casindelgamba.it/</td>\n",
       "    </tr>\n",
       "    <tr>\n",
       "      <td id=\"T_de418_row1_col0\" class=\"data row1 col0\" >San Giorgio</td>\n",
       "      <td id=\"T_de418_row1_col1\" class=\"data row1 col1\" >viale Brigate Bisagno 69r</td>\n",
       "      <td id=\"T_de418_row1_col2\" class=\"data row1 col2\" >Situated in the city albeit not right in the centre, San Giorgio is a typical Genovese restaurant – elegant and classic in style, with excellent cuisine served by the Scala family who have been in charge for decades. Young chef Samuele Di Mauro is at the helm, having started here as an apprentice and worked his way to the position of sous-chef and then head chef in 2022. Despite a focus on modern presentation and techniques, as demonstrated in dishes such as the raw bluefin tuna seasoned with an intense verbena mousse and served with caper cream and a “caviar” of dried and fried tuna, his cuisine is Mediterranean in style, with its roots in Ligurian aromas and flavours. The wine list is as impressive as the cuisine, with an entire section dedicated to French and Italian sparkling wines.</td>\n",
       "      <td id=\"T_de418_row1_col3\" class=\"data row1 col3\" >https://www.ristorantesangiorgiogenova.it/</td>\n",
       "    </tr>\n",
       "    <tr>\n",
       "      <td id=\"T_de418_row2_col0\" class=\"data row2 col0\" >Il Luogo Aimo e Nadia</td>\n",
       "      <td id=\"T_de418_row2_col1\" class=\"data row2 col1\" >via Montecuccoli 6</td>\n",
       "      <td id=\"T_de418_row2_col2\" class=\"data row2 col2\" >This long-established restaurant has been part of the Milanese culinary scene for over 60 years and continues to attract food-lovers in search of top-quality cuisine today. It serves a generous tasting menu that showcases Italian cuisine in modern dishes, some inspired by the origins of the two dynamic chefs, Alessandro Negrini and Fabio Pisani (the former from Lombardy, the latter from Puglia). There’s also a menu dedicated to the seasons, where seasonal vegetables enhance the different dishes, while the “Omaggio a Milano” (Tribute to Milan – tortelli pasta stuffed with Fassona beef ossobuco and marrow in a Sardinian saffron and parmesan reduction) is always very popular. Make sure you allow plenty of time to peruse the extensive wine selection which is displayed on a tablet and includes some hard-to-find labels. The service is courteous and attentive throughout.</td>\n",
       "      <td id=\"T_de418_row2_col3\" class=\"data row2 col3\" >https://www.aimoenadia.com/il-luogo-aimo-e-nadia</td>\n",
       "    </tr>\n",
       "    <tr>\n",
       "      <td id=\"T_de418_row3_col0\" class=\"data row3 col0\" >Vesta Mare</td>\n",
       "      <td id=\"T_de418_row3_col1\" class=\"data row3 col1\" >viale Roma 41</td>\n",
       "      <td id=\"T_de418_row3_col2\" class=\"data row3 col2\" >This typical, elegant Versilian beach club with an open-plan feel extending from the car park to the beach serves top-quality cuisine to guests. Its facilities include an entrance lounge, stylish dining room full of character, a swimming pool and a second lounge space. The menu is simpler at lunchtime, except during the low season when you can request the gourmet menu (normally only served in the evenings) when booking. Fish and seafood take pride of place on the menu, with classic dishes reinterpreted with a modern twist by a chef who takes particular care with presentation.</td>\n",
       "      <td id=\"T_de418_row3_col3\" class=\"data row3 col3\" >https://vestafiorichiari.com/mare/</td>\n",
       "    </tr>\n",
       "    <tr>\n",
       "      <td id=\"T_de418_row4_col0\" class=\"data row4 col0\" >Ca' Del Moro</td>\n",
       "      <td id=\"T_de418_row4_col1\" class=\"data row4 col1\" >località Erbin 31</td>\n",
       "      <td id=\"T_de418_row4_col2\" class=\"data row4 col2\" >Situated within the La Collina dei Ciliegi wine estate amid the verdant Valpantena hills, this first-floor restaurant (lift available) is home to two chefs – he is from Calabria, while she is from Puglia. Together they create exciting, modern Mediterranean cuisine using ingredients from their native regions, including their signature dish – homemade spaghetti served with a delicious, well-balanced 'nduja, smoked ricotta and tomato ristretto sauce. Top-quality local ingredients take pride of place, as demonstrated by the Brogna mutton, which is raised on site, barbecued and served with an exquisite caper sauce and seasonal mushroom pie. The concise wine list features labels from the Veneto alongside a few French options.</td>\n",
       "      <td id=\"T_de418_row4_col3\" class=\"data row4 col3\" >https://www.cadelmoro.wine/it</td>\n",
       "    </tr>\n",
       "    <tr>\n",
       "      <td id=\"T_de418_row5_col0\" class=\"data row5 col0\" >Contrasto</td>\n",
       "      <td id=\"T_de418_row5_col1\" class=\"data row5 col1\" >via Roma 55</td>\n",
       "      <td id=\"T_de418_row5_col2\" class=\"data row5 col2\" >Having returned to his native village, owner-chef Lucio Testa has opened this restaurant in a former sheepfold on the outskirts of the village perched at an altitude of 950m. The restaurant boasts a perfectly preserved stone façade, various small rooms arranged on different levels, exposed beams and contemporary-style lamps which give the dining room a modern feel. The creative cuisine features reinterpretations of traditional recipes from the Molise (such as pork tripe and cabbage soup) which combine local and seasonal ingredients (including produce from the restaurant’s own kitchen garden) with culinary techniques such as sauces, seasonings and emulsions acquired by the chef from his time working in France.</td>\n",
       "      <td id=\"T_de418_row5_col3\" class=\"data row5 col3\" >https://contrastoristorante.it</td>\n",
       "    </tr>\n",
       "    <tr>\n",
       "      <td id=\"T_de418_row6_col0\" class=\"data row6 col0\" >Saur</td>\n",
       "      <td id=\"T_de418_row6_col1\" class=\"data row6 col1\" >via Filippo Turati 8</td>\n",
       "      <td id=\"T_de418_row6_col2\" class=\"data row6 col2\" >In a tiny rural village, this contemporary, almost minimalist-style restaurant serves modern cuisine with an emphasis on seasonal, regional produce.</td>\n",
       "      <td id=\"T_de418_row6_col3\" class=\"data row6 col3\" >https://ristorantesaur.it</td>\n",
       "    </tr>\n",
       "    <tr>\n",
       "      <td id=\"T_de418_row7_col0\" class=\"data row7 col0\" >San Michele</td>\n",
       "      <td id=\"T_de418_row7_col1\" class=\"data row7 col1\" >via Castello di Fagagna 33</td>\n",
       "      <td id=\"T_de418_row7_col2\" class=\"data row7 col2\" >Situated next to the ruins of the old castle and the small church of San Michele, this 13C building, thought to have once housed a guardroom, is now home to a small restaurant serving regional, seasonal cuisine with a modern twist. During the week, the restaurant offers a lunchtime menu of top-quality snacks (the Venetian “cicchetti”), as well as a few “primi” and desserts.</td>\n",
       "      <td id=\"T_de418_row7_col3\" class=\"data row7 col3\" >http://sanmichele.restaurant</td>\n",
       "    </tr>\n",
       "    <tr>\n",
       "      <td id=\"T_de418_row8_col0\" class=\"data row8 col0\" >Chichibio</td>\n",
       "      <td id=\"T_de418_row8_col1\" class=\"data row8 col1\" >via Guglielmo Marconi 1</td>\n",
       "      <td id=\"T_de418_row8_col2\" class=\"data row8 col2\" >Despite its lack of awards, this restaurant stands out for the quality of its cuisine. Situated in the town centre, it has a small intimate dining room with just a few tables (it’s best to book ahead) that acts as a backdrop for good-quality dishes made from local, seasonal ingredients, as well as a few modern and imaginative fish options. Highly recommended!</td>\n",
       "      <td id=\"T_de418_row8_col3\" class=\"data row8 col3\" >tel:+39 328 905 4831</td>\n",
       "    </tr>\n",
       "    <tr>\n",
       "      <td id=\"T_de418_row9_col0\" class=\"data row9 col0\" >Winter Garden Florence</td>\n",
       "      <td id=\"T_de418_row9_col1\" class=\"data row9 col1\" >piazza Ognissanti 1</td>\n",
       "      <td id=\"T_de418_row9_col2\" class=\"data row9 col2\" >Horse-drawn carriages once entered the old courtyard of the St Regis hotel, now converted into an elegant winter garden which also includes a cocktail bar with sofas and armchairs. Seasonality and local gems are fundamental pillars of the modern Mediterranean cuisine.</td>\n",
       "      <td id=\"T_de418_row9_col3\" class=\"data row9 col3\" >https://www.wintergardenflorence.com/it/</td>\n",
       "    </tr>\n",
       "    <tr>\n",
       "      <td id=\"T_de418_row10_col0\" class=\"data row10 col0\" >Esplanade</td>\n",
       "      <td id=\"T_de418_row10_col1\" class=\"data row10 col1\" >via Lario 3</td>\n",
       "      <td id=\"T_de418_row10_col2\" class=\"data row10 col2\" >One of Italy’s long-established restaurants, the Esplanade has been a proud holder of a Michelin star since 1992 and is so renowned among food-lovers that its name is practically synonymous with that of Desenzano del Garda. Boasting a superb location alongside the lake, from which it is separated only by its own garden (the summer outdoor space is delightful), it is equally famous for its top-quality cuisine. The menu is one of the most extensive (at this level) in Italy, with an equal balance of meat and fish, and Italian and regional dishes prepared using mainly seasonal ingredients – this is classic Italian cuisine that does not stray too far from its traditional roots yet with delicate modern touches added by chef Massimo Fezzardi. The dining room, where the attentive service is as precise as a metronome, is overseen by two superb characters, namely Marzio Lee Vallio, the sommelier who won the 2024 Michelin Guide Italy Sommelier Award, and the exuberant and flawless Emanuele Signorini, a true professional whose friendly manner is contagious.</td>\n",
       "      <td id=\"T_de418_row10_col3\" class=\"data row10 col3\" >https://www.ristorante-esplanade.com/</td>\n",
       "    </tr>\n",
       "    <tr>\n",
       "      <td id=\"T_de418_row11_col0\" class=\"data row11 col0\" >La Valle</td>\n",
       "      <td id=\"T_de418_row11_col1\" class=\"data row11 col1\" >via Umberto I 25, località Valle Sauglio</td>\n",
       "      <td id=\"T_de418_row11_col2\" class=\"data row11 col2\" >A well - run restaurant in a quiet area just outside the village, where the owner - chef serves modern cuisine with the occasional regional influence. Careful attention is given to the use of seasonal produce and natural herbs, and there is a small selection of fish - based dishes.</td>\n",
       "      <td id=\"T_de418_row11_col3\" class=\"data row11 col3\" >https://www.ristorantelavalle.it/</td>\n",
       "    </tr>\n",
       "    <tr>\n",
       "      <td id=\"T_de418_row12_col0\" class=\"data row12 col0\" >Zum Löwen</td>\n",
       "      <td id=\"T_de418_row12_col1\" class=\"data row12 col1\" >via Tirolo 25</td>\n",
       "      <td id=\"T_de418_row12_col2\" class=\"data row12 col2\" >A charming restaurant housed in a skilfully restored old farm, where everything from the hay barn to the old stalls has been refurbished and enhanced, so that traditional old features from the exterior can be seen in the dining room alongside more modern additions. The cuisine here is in the capable hands of owner Anna Matscher, who creates gourmet dishes from the Alto Adige which can by now be described as “classics”. The ingredients and the cooking methods used add a certain level of tradition to proceedings, although this is hardly a flaw, especially given the precise preparation involved. Examples include the traditional roast goat kid cooked with extra-virgin olive oil and aromatic herbs and served with roast potatoes and a second seasonal vegetable, along with its own delicious jus. Luis oversees the front of house and is always available to offer recommendations for the best wine pairings.</td>\n",
       "      <td id=\"T_de418_row12_col3\" class=\"data row12 col3\" >tel:+39 0473 920927</td>\n",
       "    </tr>\n",
       "    <tr>\n",
       "      <td id=\"T_de418_row13_col0\" class=\"data row13 col0\" >Degusteria del Gigante</td>\n",
       "      <td id=\"T_de418_row13_col1\" class=\"data row13 col1\" >via degli Anelli 19</td>\n",
       "      <td id=\"T_de418_row13_col2\" class=\"data row13 col2\" >Situated in the charming historic centre of the upper part of the town, right behind the Torre dei Gualtieri, this restaurant occupies a 19C building with 15C foundations. Regional cuisine skilfully reinterpreted with a modern twist takes pride of place on the menu, where the focus is on flavour and seasonal ingredients rather than a vast selection of dishes. House specialities include options such as boned caramelised rabbit served with its own jus (inspired by the better-known traditional Marche dish), while daily visits to the market usually result in one or two fish-based recipes.</td>\n",
       "      <td id=\"T_de418_row13_col3\" class=\"data row13 col3\" >https://www.degusteriadelgigante.it/</td>\n",
       "    </tr>\n",
       "    <tr>\n",
       "      <td id=\"T_de418_row14_col0\" class=\"data row14 col0\" >La Bandiera</td>\n",
       "      <td id=\"T_de418_row14_col1\" class=\"data row14 col1\" >contrada Pastini 4</td>\n",
       "      <td id=\"T_de418_row14_col2\" class=\"data row14 col2\" >Although it takes a while to reach this restaurant that first opened in 1977, it is definitely worth the journey! Here, an entire family (second and third generations) works together with passion and enthusiasm to provide their guests with real gourmet hospitality. The cuisine, carefully planned and prepared by the parents alongside son Marcello, is based on a real respect for local, seasonal ingredients, some of which are produced by the family themselves (vegetables from the kitchen garden appear in nearly all the dishes, as does a home-produced extra-virgin olive oil). When it comes to technique, dishes have a modern feel, which makes the restaurant a flagship for top-quality Abruzzo cuisine. The couple’s other son, Alessio, works front of house and oversees the wine list, which includes impressive wine-pairing options. The excellent selection also includes a few pages of wines available by the glass, including top-of-the-range labels.</td>\n",
       "      <td id=\"T_de418_row14_col3\" class=\"data row14 col3\" >https://www.labandiera.it/</td>\n",
       "    </tr>\n",
       "    <tr>\n",
       "      <td id=\"T_de418_row15_col0\" class=\"data row15 col0\" >Pipero Roma</td>\n",
       "      <td id=\"T_de418_row15_col1\" class=\"data row15 col1\" >corso Vittorio Emanuele II 250</td>\n",
       "      <td id=\"T_de418_row15_col2\" class=\"data row15 col2\" >Situated opposite the church of Santa Maria in Vallicella (known to locals as Chiesa Nuova or new church), this restaurant is named after its owner and maître-d’ Alessandro Pipero. Young chef Ciro Scamardella from Campania is at the helm in the kitchen, where he prepares modern dishes with a focus on the seasons, including a few specialities from his native region. His cuisine demonstrates a continuous search for balance and colour – the recipe that particularly impressed our inspectors was his reinterpretation of mussel soup, in which the full flavour of the sea shone through. A second dining room on the first floor, decorated in the same refurbished style, is available for small groups and private dinners.</td>\n",
       "      <td id=\"T_de418_row15_col3\" class=\"data row15 col3\" >https://www.piperoroma.it/</td>\n",
       "    </tr>\n",
       "    <tr>\n",
       "      <td id=\"T_de418_row16_col0\" class=\"data row16 col0\" >Secondo Tempo</td>\n",
       "      <td id=\"T_de418_row16_col1\" class=\"data row16 col1\" >via Vittorio Amedeo 55</td>\n",
       "      <td id=\"T_de418_row16_col2\" class=\"data row16 col2\" >Situated on the first floor of a building (formerly home to an apartment owned by chef Salvatore Campagna’s family), this intimate restaurant dates back to the 1920s, as do the frescoes on the ceiling and the Art Nouveau-style flooring. In contrast, the cuisine is modern Italian with obvious Sicilian influences, including a focus on seasonal vegetables (there’s even a tasting menu that is completely vegan). All the extra-virgin olive oil used for cooking and as a condiment is home produced.</td>\n",
       "      <td id=\"T_de418_row16_col3\" class=\"data row16 col3\" >http://www.ristorantesecondotempo.it</td>\n",
       "    </tr>\n",
       "    <tr>\n",
       "      <td id=\"T_de418_row17_col0\" class=\"data row17 col0\" >Aprudia</td>\n",
       "      <td id=\"T_de418_row17_col1\" class=\"data row17 col1\" >largo del Forno 16</td>\n",
       "      <td id=\"T_de418_row17_col2\" class=\"data row17 col2\" >At this restaurant in the historic centre, where the vaulted brick ceiling provides a striking contrast with the modern furnishings, the chef celebrates the seasons through a whole range of ingredients to create truly delicious cuisine. Interesting tasting menus add to its appeal.</td>\n",
       "      <td id=\"T_de418_row17_col3\" class=\"data row17 col3\" >http://www.aprudia.com</td>\n",
       "    </tr>\n",
       "    <tr>\n",
       "      <td id=\"T_de418_row18_col0\" class=\"data row18 col0\" >Piccolo Lord</td>\n",
       "      <td id=\"T_de418_row18_col1\" class=\"data row18 col1\" >corso San Maurizio 69 bis/g</td>\n",
       "      <td id=\"T_de418_row18_col2\" class=\"data row18 col2\" >Professional service in a welcoming, modern restaurant run by a young couple. He works in the kitchen while she (having also worked as a chef in the past) runs the front of house. Delicious Mediterranean cuisine with a seasonal focus.</td>\n",
       "      <td id=\"T_de418_row18_col3\" class=\"data row18 col3\" >https://www.ristorantepiccololord.it/</td>\n",
       "    </tr>\n",
       "    <tr>\n",
       "      <td id=\"T_de418_row19_col0\" class=\"data row19 col0\" >Ronchi Rò</td>\n",
       "      <td id=\"T_de418_row19_col1\" class=\"data row19 col1\" >località Cime di Dolegna 12</td>\n",
       "      <td id=\"T_de418_row19_col2\" class=\"data row19 col2\" >Ronchi Rò is an estate-cum-agriturismo surrounded by the verdant rolling hills and lush woodland of the Collio, a fascinating and enchanting border region famous for its superb wines. Chef Fares Issa’s cuisine is authentic, full of flavour and resolutely seasonal. Although his dishes are influenced by the culinary traditions of the Friuli region, including hams and salamis, goose speck and “frico” (a cheese and potato dish), he also includes the occasional contemporary twist. This is a small and intimate restaurant with just six tables in its attractive, modern dining room, so booking ahead is advisable!</td>\n",
       "      <td id=\"T_de418_row19_col3\" class=\"data row19 col3\" >https://www.ronchiro.it</td>\n",
       "    </tr>\n",
       "    <tr>\n",
       "      <td id=\"T_de418_row20_col0\" class=\"data row20 col0\" >Razzo</td>\n",
       "      <td id=\"T_de418_row20_col1\" class=\"data row20 col1\" >via Andrea Doria 17/f</td>\n",
       "      <td id=\"T_de418_row20_col2\" class=\"data row20 col2\" >A quiet restaurant with a relaxed, young and modern feel serving contemporary cuisine prepared from seasonal, regional products. Charming romantic outdoor area with soft lighting.</td>\n",
       "      <td id=\"T_de418_row20_col3\" class=\"data row20 col3\" >https://vadoarazzo.it/</td>\n",
       "    </tr>\n",
       "    <tr>\n",
       "      <td id=\"T_de418_row21_col0\" class=\"data row21 col0\" >Flurin</td>\n",
       "      <td id=\"T_de418_row21_col1\" class=\"data row21 col1\" >Laubengasse 2</td>\n",
       "      <td id=\"T_de418_row21_col2\" class=\"data row21 col2\" >Flurin occupies an old medieval tower in Glorenza, a small hamlet in the Val Venosta which is surrounded by walls that also date back to the Middle Ages. Furnished in a modern style that contrasts with its old vaulted ceiling, the restaurant serves contemporary cuisine that the enthusiastic owner-chef prepares from carefully selected seasonal ingredients from the region. His creative and imaginative recipes include dishes such as Alpine char ceviche with grapefruit, cucumber and sesame seeds. A bar and guest suites complete the picture.</td>\n",
       "      <td id=\"T_de418_row21_col3\" class=\"data row21 col3\" >https://www.flurin.it</td>\n",
       "    </tr>\n",
       "    <tr>\n",
       "      <td id=\"T_de418_row22_col0\" class=\"data row22 col0\" >Quadri Bistrot</td>\n",
       "      <td id=\"T_de418_row22_col1\" class=\"data row22 col1\" >Via Solferino 48</td>\n",
       "      <td id=\"T_de418_row22_col2\" class=\"data row22 col2\" >A modern bistro with a cocktail-bar, trendy decor, soft lighting and lounge-style background music, as well as a small outdoor space on the pavement which needs to be booked well in advance. The imaginative cuisine comes courtesy of a talented chef who creates dishes full of character from top-quality seasonal ingredients. Our inspectors particularly enjoyed the Bresse chicken stuffed with a cherry sauce.</td>\n",
       "      <td id=\"T_de418_row22_col3\" class=\"data row22 col3\" >https://www.quadribistrot.it/</td>\n",
       "    </tr>\n",
       "    <tr>\n",
       "      <td id=\"T_de418_row23_col0\" class=\"data row23 col0\" >Materia | Spazio Cucina</td>\n",
       "      <td id=\"T_de418_row23_col1\" class=\"data row23 col1\" >via Teatro Massimo 29</td>\n",
       "      <td id=\"T_de418_row23_col2\" class=\"data row23 col2\" >The entrance to this restaurant is typical of an old residential-style building, giving the impression that you are stepping into the chef’s own home. Here, the beautiful dining room boasts shared tables and an entire wall covered with shelves of jars containing dried fruit, pumpkin seeds and red lentils. The classic-style cuisine focuses on grilled dishes and modern cooking methods to create typical Sicilian meat and fish dishes that pay careful attention to the seasons. The first courses are excellent, including the spaghetti with butter and anchovies, which is served with Favignana tuna bottarga and muddica atturrata(spiced breadcrumbs) made from Perciasacchi flour.</td>\n",
       "      <td id=\"T_de418_row23_col3\" class=\"data row23 col3\" >https://www.materiaspaziocucina.it/</td>\n",
       "    </tr>\n",
       "    <tr>\n",
       "      <td id=\"T_de418_row24_col0\" class=\"data row24 col0\" >Gallery Bistrot Contemporaneo</td>\n",
       "      <td id=\"T_de418_row24_col1\" class=\"data row24 col1\" >via Regina Margherita 3/b</td>\n",
       "      <td id=\"T_de418_row24_col2\" class=\"data row24 col2\" >Modern, tasty and carefully curated cuisine, which is prepared using the best seasonal ingredients. There is also a creative touch to some of the dishes, such as the vitello tonnato in which the meat (Fassona veal from the Piedmont) takes on the appearance of raspberries, or the delicate duck breast served with veal jus. The restaurant offers just 20 seats in a long dining room where the walls and ceiling form a sort of light wood-panelled arch that creates a real sense of movement.</td>\n",
       "      <td id=\"T_de418_row24_col3\" class=\"data row24 col3\" >tel:+39 342 359 9215</td>\n",
       "    </tr>\n",
       "    <tr>\n",
       "      <td id=\"T_de418_row25_col0\" class=\"data row25 col0\" >[àbitat]</td>\n",
       "      <td id=\"T_de418_row25_col1\" class=\"data row25 col1\" >via Henry Dunant 1</td>\n",
       "      <td id=\"T_de418_row25_col2\" class=\"data row25 col2\" >A young, enthusiastic and professional couple has taken over the reins at this modern and welcoming restaurant, serving cuisine that is inspired by a sustainable and seasonal approach. Ingredients include herbs harvested from their own garden, as well as typical produce from the mountains and the sea, all sourced from trusted suppliers who demonstrate full respect for nature and animals. Food waste is kept to a minimum to ensure a circular-based cuisine.</td>\n",
       "      <td id=\"T_de418_row25_col3\" class=\"data row25 col3\" >https://www.abitatproject.it</td>\n",
       "    </tr>\n",
       "    <tr>\n",
       "      <td id=\"T_de418_row26_col0\" class=\"data row26 col0\" >Babette</td>\n",
       "      <td id=\"T_de418_row26_col1\" class=\"data row26 col1\" >via Michelangelo 17</td>\n",
       "      <td id=\"T_de418_row26_col2\" class=\"data row26 col2\" >Situated just beyond the centre of Albenga in a beautiful location right on the beach (with only a small private beach club separating it from the sea), this restaurant has been in business for over 20 years (10 years on this site, and 10 in the town centre before that). It is renowned for its excellent, modern cuisine that focuses on top-quality, fresh and seasonal fish. A lighter (yet equally excellent) menu is also available at lunchtime.</td>\n",
       "      <td id=\"T_de418_row26_col3\" class=\"data row26 col3\" >https://www.ristorantebabette.net/</td>\n",
       "    </tr>\n",
       "    <tr>\n",
       "      <td id=\"T_de418_row27_col0\" class=\"data row27 col0\" >Cappuccini Cucina San Francesco</td>\n",
       "      <td id=\"T_de418_row27_col1\" class=\"data row27 col1\" >via Cappuccini 54</td>\n",
       "      <td id=\"T_de418_row27_col2\" class=\"data row27 col2\" >Housed in the resort of the same name, this elegant restaurant is full of historic charm, enhanced by its white damask linen and beautiful candlesticks. The wine list pays obvious tribute to the famous Franciacorta region and also includes an excellent choice of champagnes, while the modern cuisine shows touches of traditional influence alongside more creative twists. Seasonal ingredients are to the fore here.</td>\n",
       "      <td id=\"T_de418_row27_col3\" class=\"data row27 col3\" >https://www.cappuccini.it/</td>\n",
       "    </tr>\n",
       "    <tr>\n",
       "      <td id=\"T_de418_row28_col0\" class=\"data row28 col0\" >Osteria Ophis</td>\n",
       "      <td id=\"T_de418_row28_col1\" class=\"data row28 col1\" >corso Serpente Aureo 54/b</td>\n",
       "      <td id=\"T_de418_row28_col2\" class=\"data row28 col2\" >Situated in the beautiful historic centre of Offida, this restaurant with a brick-vaulted ceiling is housed in the former stables of an old palazzo with a modern, inviting decor. Near the entrance, a small window offers a glimpse of the kitchen. The regional cuisine is reinterpreted with individual flair by the chef, showcased on an à la carte that changes regularly (including truffles in season) and two excellent tasting menus.</td>\n",
       "      <td id=\"T_de418_row28_col3\" class=\"data row28 col3\" >https://www.osteriaophis.com/</td>\n",
       "    </tr>\n",
       "    <tr>\n",
       "      <td id=\"T_de418_row29_col0\" class=\"data row29 col0\" >Sintesi</td>\n",
       "      <td id=\"T_de418_row29_col1\" class=\"data row29 col1\" >viale dei Castani 17</td>\n",
       "      <td id=\"T_de418_row29_col2\" class=\"data row29 col2\" >A modern, welcoming restaurant whose motto “Tradition & Innovation” perfectly sums up its cuisine. On the à la carte and tasting menus alike you’ll find classic dishes including risotto with peas, lemon and raw scampi alongside more creative offerings such as grilled pannicolo (hanger steak) with Nemi strawberries and herbs, all presented in a modern and precise manner, and with the occasional nod to Asian techniques and northern European culinary methods (fermentation, marinades, dry aging of fish etc). The wine list changes with the seasons and the menu.</td>\n",
       "      <td id=\"T_de418_row29_col3\" class=\"data row29 col3\" >http://ristorantesintesi.it</td>\n",
       "    </tr>\n",
       "    <tr>\n",
       "      <td id=\"T_de418_row30_col0\" class=\"data row30 col0\" >Osteria Taviani</td>\n",
       "      <td id=\"T_de418_row30_col1\" class=\"data row30 col1\" >piazza Vittorio Emanuele II 28</td>\n",
       "      <td id=\"T_de418_row30_col2\" class=\"data row30 col2\" >This pleasant, warmly decorated restaurant is run with passion and enthusiasm by Elena and Alessandro, the former supervising the front of house, the latter at the helm in the kitchen. The cuisine here is modern and full of flavour, with a focus on meat dishes (although a few fish options also feature) with their roots firmly anchored in Tuscan traditions (such as the fried steak). During the hunting season, the contemporary-style game dishes are particularly delicious. The wine list includes a few French labels.</td>\n",
       "      <td id=\"T_de418_row30_col3\" class=\"data row30 col3\" >tel:+39 0587 757374</td>\n",
       "    </tr>\n",
       "    <tr>\n",
       "      <td id=\"T_de418_row31_col0\" class=\"data row31 col0\" >Retrobottega</td>\n",
       "      <td id=\"T_de418_row31_col1\" class=\"data row31 col1\" >via della Stelletta 4</td>\n",
       "      <td id=\"T_de418_row31_col2\" class=\"data row31 col2\" >Minimalist decor and clean lines characterise this restaurant decorated in dark tones, where the two owner-chefs have both worked in various Michelin-starred restaurants (and others) over the years. Modern cuisine which showcases seasonal ingredients in regional yet refined dishes.</td>\n",
       "      <td id=\"T_de418_row31_col3\" class=\"data row31 col3\" >https://www.retro-bottega.com</td>\n",
       "    </tr>\n",
       "    <tr>\n",
       "      <td id=\"T_de418_row32_col0\" class=\"data row32 col0\" >RistoFante</td>\n",
       "      <td id=\"T_de418_row32_col1\" class=\"data row32 col1\" >via Mazzini 41</td>\n",
       "      <td id=\"T_de418_row32_col2\" class=\"data row32 col2\" >The motto of this restaurant is “In step with the times yet inspired by tradition”. The cuisine here is made from fresh, seasonal ingredients (with a particular focus on fish) prepared using modern techniques. Elegant dining room, plus a shaded outdoor space for the summer months.</td>\n",
       "      <td id=\"T_de418_row32_col3\" class=\"data row32 col3\" >https://www.ristofante.it/</td>\n",
       "    </tr>\n",
       "    <tr>\n",
       "      <td id=\"T_de418_row33_col0\" class=\"data row33 col0\" >Radimare</td>\n",
       "      <td id=\"T_de418_row33_col1\" class=\"data row33 col1\" >via Beato Piergiorgio Frassati 5/a</td>\n",
       "      <td id=\"T_de418_row33_col2\" class=\"data row33 col2\" >There’s no tasting menu at this restaurant but instead a tempting à la carte featuring modern Mediterranean cuisine based on top-quality seasonal ingredients, with fish and seafood taking centre stage. Citrus fruit and a few spices, especially ginger, are used carefully and sparingly, as are aromatic herbs which add a touch of fresh flavour to the dishes. The contemporary decor, enhanced by plants and a profusion of wood, plus friendly service add to the appeal.</td>\n",
       "      <td id=\"T_de418_row33_col3\" class=\"data row33 col3\" >http://www.radimare.com</td>\n",
       "    </tr>\n",
       "    <tr>\n",
       "      <td id=\"T_de418_row34_col0\" class=\"data row34 col0\" >Locanda Solagna</td>\n",
       "      <td id=\"T_de418_row34_col1\" class=\"data row34 col1\" >piazza I  Novembre 2</td>\n",
       "      <td id=\"T_de418_row34_col2\" class=\"data row34 col2\" >Although this restaurant has been in business since the 1950s, it feels much more modern thanks to its updated appearance. Renowned for its excellent regional cuisine served in the evening, the restaurant pays careful attention to seasonal ingredients. At lunchtime, the ”osteria”-style menu is much simpler. Excellent wine selection.</td>\n",
       "      <td id=\"T_de418_row34_col3\" class=\"data row34 col3\" >https://www.locandasolagna.it/</td>\n",
       "    </tr>\n",
       "    <tr>\n",
       "      <td id=\"T_de418_row35_col0\" class=\"data row35 col0\" >Osteria del Miglio 2.10</td>\n",
       "      <td id=\"T_de418_row35_col1\" class=\"data row35 col1\" >via Patrioti 2</td>\n",
       "      <td id=\"T_de418_row35_col2\" class=\"data row35 col2\" >Although the town may not be of major importance, the cuisine served at this modern restaurant (with a convenient car park) certainly is! Focusing on traditional local recipes and using seasonal ingredients, the carefully prepared dishes are both generous and full of flavour. Fair prices complete the picture and make this a restaurant a must.</td>\n",
       "      <td id=\"T_de418_row35_col3\" class=\"data row35 col3\" >tel:+39 0372 166 4229</td>\n",
       "    </tr>\n",
       "    <tr>\n",
       "      <td id=\"T_de418_row36_col0\" class=\"data row36 col0\" >Savô</td>\n",
       "      <td id=\"T_de418_row36_col1\" class=\"data row36 col1\" >piazza XXV Aprile 8</td>\n",
       "      <td id=\"T_de418_row36_col2\" class=\"data row36 col2\" >The reopening in 2022 of the Hotel Windsor with its romantic vintage decor, is a real bonus for Laigueglia, especially the hotel’s new gourmet restaurant Savô (which translates as “flavour” in Ligurian dialect). Here, a contemporary dining room and an outdoor space with views of the beach and the sea provide the setting for modern cuisine prepared from regional, seasonal ingredients with a focus on fish (there is also a meat option for each course). The impressive selection of wine and choice of cocktails from the elegant Windsor Bar adds to its appeal.</td>\n",
       "      <td id=\"T_de418_row36_col3\" class=\"data row36 col3\" >http://www.thewindsor.it</td>\n",
       "    </tr>\n",
       "    <tr>\n",
       "      <td id=\"T_de418_row37_col0\" class=\"data row37 col0\" >Le Vie del Borgo</td>\n",
       "      <td id=\"T_de418_row37_col1\" class=\"data row37 col1\" >via alla Piazza 6</td>\n",
       "      <td id=\"T_de418_row37_col2\" class=\"data row37 col2\" >Le Vie del Borgo is situated in a restored rustic building situated in the historic centre of the picturesque village of Toceno in the Val Vigezzo. Here, a young couple with a real passion for cuisine serve recipes from the region and elsewhere, as well as dishes that demonstrate remarkable modern techniques, all made from top-quality seasonal ingredients and accompanied by an interesting selection of wines. The restaurant consists of several intimate dining rooms decorated in Alpine style, with an elegant feel and carefully chosen furnishings. The attractive outdoor space with just a few tables is popular in summer, so advance booking is recommended!</td>\n",
       "      <td id=\"T_de418_row37_col3\" class=\"data row37 col3\" >https://www.leviedelborgoguesthouse.it/</td>\n",
       "    </tr>\n",
       "    <tr>\n",
       "      <td id=\"T_de418_row38_col0\" class=\"data row38 col0\" >Saporium</td>\n",
       "      <td id=\"T_de418_row38_col1\" class=\"data row38 col1\" >località Palazzetto 110</td>\n",
       "      <td id=\"T_de418_row38_col2\" class=\"data row38 col2\" >Saporium is the new fine-dining restaurant at the superb Relais Borgo Santo Pietro, an old property where the internal decor demonstrates a rare elegance, especially in the evening when hundreds of candles provide soft lighting and a romantic ambience in the dining room. In fine weather, meals are served under an elegant 13C portico overlooking the garden, with the property’s 100ha grounds and the Valle Serena as a backdrop. Much of the produce used in the cuisine designed by executive chef Hagen and transformed by resident chef Luca Ottogalli into modern, delicate dishes comes from the hotel’s own olive groves, vineyards, orchards and vegetable gardens. The focus here is on seasonal ingredients from this extraordinary region, such as the Borgo’s walnuts which are used in some of the delicious desserts. A whole host of wine-pairing options are possible thanks to the 1 000 different labels on the wine list.</td>\n",
       "      <td id=\"T_de418_row38_col3\" class=\"data row38 col3\" >http://www.saporium.com/it/borgo-santo.pietro/</td>\n",
       "    </tr>\n",
       "    <tr>\n",
       "      <td id=\"T_de418_row39_col0\" class=\"data row39 col0\" >Il Tino</td>\n",
       "      <td id=\"T_de418_row39_col1\" class=\"data row39 col1\" >via Monte Cadria 127</td>\n",
       "      <td id=\"T_de418_row39_col2\" class=\"data row39 col2\" >Enjoying an attractive location in the Nautilus Marina, overlooking the Tiber and the boats moored along it, this restaurant decorated in a modern, minimalist style represents a childhood dream for its chef, who learned his craft from observing his grandparents, both of whom were excellent cooks. Following years spent gaining experience abroad and in Italy, including an informative period with Gualtiero Marchesi at L’Albereta, Usai now creates contemporary cuisine with a strong regional character, prepared from top-quality seasonal ingredients and enhanced with cutting-edge techniques. His cuisine is also open to more exotic influences, including from Asia, the aesthetic quality of which reflects the chef’s own love for elegant presentation. The restaurant’s kitchen garden, visible from the steps leading into the dining room, provides the many herbs that are used skilfully by the chef to add colour and even more flavour to his delicious fish and seafood dishes. Excellent wine list, plus the highly recommended option of starting your meal with an intriguing cocktail!</td>\n",
       "      <td id=\"T_de418_row39_col3\" class=\"data row39 col3\" >https://www.ristoranteiltino.com/</td>\n",
       "    </tr>\n",
       "    <tr>\n",
       "      <td id=\"T_de418_row40_col0\" class=\"data row40 col0\" >Mima</td>\n",
       "      <td id=\"T_de418_row40_col1\" class=\"data row40 col1\" >via Madonnelle 9</td>\n",
       "      <td id=\"T_de418_row40_col2\" class=\"data row40 col2\" >You’ll be won over by the seasonal Mediterranean cuisine created by the young yet experienced chef at this restaurant. Accommodation is also available in modern guestrooms, plus there’s an enchanting roof garden in which to sip an aperitif while the sun goes down.</td>\n",
       "      <td id=\"T_de418_row40_col3\" class=\"data row40 col3\" >http://www.domo20.com/restaurant</td>\n",
       "    </tr>\n",
       "  </tbody>\n",
       "</table>\n"
      ],
      "text/plain": [
       "<pandas.io.formats.style.Styler at 0x225b643e488>"
      ]
     },
     "metadata": {},
     "output_type": "display_data"
    }
   ],
   "source": [
    "def execute_query(query, df):\n",
    "    \n",
    "    processed_query = preprocess_and_stem_text(query)\n",
    "    query_terms = set(processed_query)\n",
    "    \n",
    "    # Find the indices of restaurants that match the query\n",
    "    matching_indices = df[df[\"processed_description\"].apply(lambda desc: query_terms.issubset(desc))].index\n",
    "    \n",
    "    # iloc is used to select rows and filter the columns\n",
    "    result = df.iloc[matching_indices][[\"restaurantName\", \"address\", \"description\", \"website\"]]\n",
    "    \n",
    "    return result\n",
    "\n",
    "query = input(\"Please enter your search terms (e.g., 'modern seasonal cuisine'): \")\n",
    "\n",
    "\n",
    "result = execute_query(query, df)\n",
    "print(\"Descriptions that contain the query '{}':\".format(query))\n",
    "\n",
    "# Display the results without showing the index\n",
    "display(result.style.hide_index())\n"
   ]
  },
  {
   "cell_type": "markdown",
   "metadata": {},
   "source": [
    "## 2.2 Ranked Search Engine with TF-IDF and Cosine Similarity"
   ]
  },
  {
   "cell_type": "markdown",
   "metadata": {},
   "source": [
    "### 2.2.1 Inverted Index with TF-IDF Scores"
   ]
  },
  {
   "cell_type": "markdown",
   "metadata": {},
   "source": [
    "spiegaaaa"
   ]
  },
  {
   "cell_type": "code",
   "execution_count": 86,
   "metadata": {},
   "outputs": [],
   "source": [
    "import pandas as pd\n",
    "import numpy as np\n",
    "from collections import defaultdict\n",
    "from sklearn.feature_extraction.text import TfidfVectorizer\n",
    "\n",
    "#TF-IDF scores\n",
    "def build_new_inverted_index(data):\n",
    "    # Vectorize descriptions using TF-IDF\n",
    "    vectorizer = TfidfVectorizer()\n",
    "    tfidf_matrix = vectorizer.fit_transform(data['description'])\n",
    "    terms = vectorizer.get_feature_names_out()\n",
    "\n",
    "    # inverted index with TF-IDF scores\n",
    "    inverted_index = defaultdict(list)\n",
    "    for doc_id, row in enumerate(tfidf_matrix):\n",
    "        for term_id, tfidf_score in zip(row.indices, row.data):\n",
    "            term = terms[term_id]\n",
    "            inverted_index[term].append((doc_id, tfidf_score))\n",
    "\n",
    "    return inverted_index, vectorizer\n",
    "\n",
    "# Generate the inverted index\n",
    "inverted_index, vectorizer = build_new_inverted_index(df)"
   ]
  },
  {
   "cell_type": "markdown",
   "metadata": {},
   "source": [
    "### 2.2.2 Execute the Ranked Query"
   ]
  },
  {
   "cell_type": "markdown",
   "metadata": {},
   "source": [
    "spiegaaa"
   ]
  },
  {
   "cell_type": "code",
   "execution_count": null,
   "metadata": {},
   "outputs": [
    {
     "data": {
      "text/html": [
       "<style type=\"text/css\">\n",
       "</style>\n",
       "<table id=\"T_e6c10_\">\n",
       "  <thead>\n",
       "    <tr>\n",
       "      <th class=\"col_heading level0 col0\" >restaurantName</th>\n",
       "      <th class=\"col_heading level0 col1\" >address</th>\n",
       "      <th class=\"col_heading level0 col2\" >description</th>\n",
       "      <th class=\"col_heading level0 col3\" >website</th>\n",
       "      <th class=\"col_heading level0 col4\" >similarity_score</th>\n",
       "    </tr>\n",
       "  </thead>\n",
       "  <tbody>\n",
       "    <tr>\n",
       "      <td id=\"T_e6c10_row0_col0\" class=\"data row0 col0\" >Saur</td>\n",
       "      <td id=\"T_e6c10_row0_col1\" class=\"data row0 col1\" >via Filippo Turati 8</td>\n",
       "      <td id=\"T_e6c10_row0_col2\" class=\"data row0 col2\" >In a tiny rural village, this contemporary, almost minimalist-style restaurant serves modern cuisine with an emphasis on seasonal, regional produce.</td>\n",
       "      <td id=\"T_e6c10_row0_col3\" class=\"data row0 col3\" >https://ristorantesaur.it</td>\n",
       "      <td id=\"T_e6c10_row0_col4\" class=\"data row0 col4\" >0.311022</td>\n",
       "    </tr>\n",
       "    <tr>\n",
       "      <td id=\"T_e6c10_row1_col0\" class=\"data row1 col0\" >Razzo</td>\n",
       "      <td id=\"T_e6c10_row1_col1\" class=\"data row1 col1\" >via Andrea Doria 17/f</td>\n",
       "      <td id=\"T_e6c10_row1_col2\" class=\"data row1 col2\" >A quiet restaurant with a relaxed, young and modern feel serving contemporary cuisine prepared from seasonal, regional products. Charming romantic outdoor area with soft lighting.</td>\n",
       "      <td id=\"T_e6c10_row1_col3\" class=\"data row1 col3\" >https://vadoarazzo.it/</td>\n",
       "      <td id=\"T_e6c10_row1_col4\" class=\"data row1 col4\" >0.264815</td>\n",
       "    </tr>\n",
       "    <tr>\n",
       "      <td id=\"T_e6c10_row2_col0\" class=\"data row2 col0\" >La Botte</td>\n",
       "      <td id=\"T_e6c10_row2_col1\" class=\"data row2 col1\" >via Giuseppe Garibaldi 8</td>\n",
       "      <td id=\"T_e6c10_row2_col2\" class=\"data row2 col2\" >A modern and welcoming contemporary bistro situated in the heart of Stresa’s historic centre. Run by an entire family, the restaurant serves modern and imaginative fish and meat dishes where the focus is always on seasonal ingredients. The interesting wine list also includes a selection of wines by the glass.</td>\n",
       "      <td id=\"T_e6c10_row2_col3\" class=\"data row2 col3\" >http://www.trattorialabottestresa.it</td>\n",
       "      <td id=\"T_e6c10_row2_col4\" class=\"data row2 col4\" >0.246574</td>\n",
       "    </tr>\n",
       "  </tbody>\n",
       "</table>\n"
      ],
      "text/plain": [
       "<pandas.io.formats.style.Styler at 0x225bb576188>"
      ]
     },
     "metadata": {},
     "output_type": "display_data"
    }
   ],
   "source": [
    "from sklearn.feature_extraction.text import TfidfVectorizer\n",
    "from sklearn.metrics.pairwise import cosine_similarity\n",
    "import pandas as pd\n",
    "import numpy as np\n",
    "\n",
    "# TF-IDF vectors for each restaurant description\n",
    "def preprocess_data(data):\n",
    "    vectorizer = TfidfVectorizer() \n",
    "    tfidf_matrix = vectorizer.fit_transform(data['description'])\n",
    "    return tfidf_matrix, vectorizer\n",
    "\n",
    "# Execute the ranked query using TF-IDF and Cosine Similarity\n",
    "def execute_ranked_query(query, data, tfidf_matrix, vectorizer, k):\n",
    "    query_vector = vectorizer.transform([query])\n",
    "    \n",
    "    # Calculate cosine similarity between the query and all documents\n",
    "    similarity_scores = cosine_similarity(query_vector, tfidf_matrix).flatten()\n",
    "    \n",
    "    # Get indices of documents sorted by score\n",
    "    ranked_indices = np.argsort(similarity_scores)[::-1][:k]  # Top k\n",
    "    \n",
    "    results = data.iloc[ranked_indices][['restaurantName', 'address', 'description', 'website']].copy()\n",
    "    results['similarity_score'] = similarity_scores[ranked_indices]\n",
    "    results.reset_index(drop=True, inplace=True)\n",
    "    \n",
    "    return results\n",
    "\n",
    "# Build TF-IDF matrix\n",
    "tfidf_matrix, vectorizer = preprocess_data(df)\n",
    "\n",
    "# Prompt user for input and display results\n",
    "query = input(\"Please enter your search terms (e.g., 'modern seasonal cuisine'): \")\n",
    "k = int(input(\"How many top similar restaurants would you like to see? \"))\n",
    "result = execute_ranked_query(query, df, tfidf_matrix, vectorizer, k)\n",
    "\n",
    "display(result.style.hide_index())"
   ]
  }
 ],
 "metadata": {
  "kernelspec": {
   "display_name": "Python 3",
   "language": "python",
   "name": "python3"
  },
  "language_info": {
   "codemirror_mode": {
    "name": "ipython",
    "version": 3
   },
   "file_extension": ".py",
   "mimetype": "text/x-python",
   "name": "python",
   "nbconvert_exporter": "python",
   "pygments_lexer": "ipython3",
   "version": "3.7.12"
  }
 },
 "nbformat": 4,
 "nbformat_minor": 2
}
